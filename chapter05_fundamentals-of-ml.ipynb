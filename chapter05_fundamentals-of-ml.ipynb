{
 "cells": [
  {
   "cell_type": "markdown",
   "metadata": {
    "colab_type": "text"
   },
   "source": [
    "This is a companion notebook for the book [Deep Learning with Python, Second Edition](https://www.manning.com/books/deep-learning-with-python-second-edition?a_aid=keras&a_bid=76564dff). For readability, it only contains runnable code blocks and section titles, and omits everything else in the book: text paragraphs, figures, and pseudocode.\n",
    "\n",
    "**If you want to be able to follow what's going on, I recommend reading the notebook side by side with your copy of the book.**\n",
    "\n",
    "This notebook was generated for TensorFlow 2.6."
   ]
  },
  {
   "cell_type": "markdown",
   "metadata": {
    "colab_type": "text"
   },
   "source": [
    "# Fundamentals of machine learning"
   ]
  },
  {
   "cell_type": "markdown",
   "metadata": {
    "colab_type": "text"
   },
   "source": [
    "## Generalization: The goal of machine learning"
   ]
  },
  {
   "cell_type": "markdown",
   "metadata": {
    "colab_type": "text"
   },
   "source": [
    "### Underfitting and overfitting"
   ]
  },
  {
   "cell_type": "markdown",
   "metadata": {
    "colab_type": "text"
   },
   "source": [
    "#### Noisy training data"
   ]
  },
  {
   "cell_type": "markdown",
   "metadata": {
    "colab_type": "text"
   },
   "source": [
    "#### Ambiguous features"
   ]
  },
  {
   "cell_type": "markdown",
   "metadata": {
    "colab_type": "text"
   },
   "source": [
    "#### Rare features and spurious correlations"
   ]
  },
  {
   "cell_type": "markdown",
   "metadata": {
    "colab_type": "text"
   },
   "source": [
    "**Adding white-noise channels or all-zeros channels to MNIST**"
   ]
  },
  {
   "cell_type": "code",
   "execution_count": 1,
   "metadata": {
    "colab_type": "code"
   },
   "outputs": [],
   "source": [
    "from tensorflow.keras.datasets import mnist\n",
    "import numpy as np\n",
    "\n",
    "(train_images, train_labels), _ = mnist.load_data()\n",
    "train_images = train_images.reshape((60000, 28 * 28))\n",
    "train_images = train_images.astype(\"float32\") / 255\n",
    "\n",
    "train_images_with_noise_channels = np.concatenate(\n",
    "    [train_images, np.random.random((len(train_images), 784))], axis=1)\n",
    "\n",
    "train_images_with_zeros_channels = np.concatenate(\n",
    "    [train_images, np.zeros((len(train_images), 784))], axis=1)"
   ]
  },
  {
   "cell_type": "markdown",
   "metadata": {
    "colab_type": "text"
   },
   "source": [
    "**Training the same model on MNIST data with noise channels or all-zero channels**"
   ]
  },
  {
   "cell_type": "code",
   "execution_count": 2,
   "metadata": {
    "colab_type": "code"
   },
   "outputs": [
    {
     "name": "stdout",
     "output_type": "stream",
     "text": [
      "Epoch 1/10\n",
      "375/375 [==============================] - 2s 5ms/step - loss: 0.6111 - accuracy: 0.8145 - val_loss: 0.3294 - val_accuracy: 0.8993\n",
      "Epoch 2/10\n",
      "375/375 [==============================] - 2s 5ms/step - loss: 0.2528 - accuracy: 0.9217 - val_loss: 0.2062 - val_accuracy: 0.9363\n",
      "Epoch 3/10\n",
      "375/375 [==============================] - 2s 5ms/step - loss: 0.1634 - accuracy: 0.9496 - val_loss: 0.1963 - val_accuracy: 0.9387\n",
      "Epoch 4/10\n",
      "375/375 [==============================] - 2s 5ms/step - loss: 0.1180 - accuracy: 0.9630 - val_loss: 0.1590 - val_accuracy: 0.9530\n",
      "Epoch 5/10\n",
      "375/375 [==============================] - 2s 6ms/step - loss: 0.0860 - accuracy: 0.9730 - val_loss: 0.1239 - val_accuracy: 0.9631\n",
      "Epoch 6/10\n",
      "375/375 [==============================] - 2s 4ms/step - loss: 0.0642 - accuracy: 0.9794 - val_loss: 0.1138 - val_accuracy: 0.9687\n",
      "Epoch 7/10\n",
      "375/375 [==============================] - 2s 5ms/step - loss: 0.0483 - accuracy: 0.9845 - val_loss: 0.1266 - val_accuracy: 0.9654\n",
      "Epoch 8/10\n",
      "375/375 [==============================] - 2s 5ms/step - loss: 0.0361 - accuracy: 0.9878 - val_loss: 0.1200 - val_accuracy: 0.9681\n",
      "Epoch 9/10\n",
      "375/375 [==============================] - 2s 5ms/step - loss: 0.0267 - accuracy: 0.9909 - val_loss: 0.1210 - val_accuracy: 0.9688\n",
      "Epoch 10/10\n",
      "375/375 [==============================] - 2s 5ms/step - loss: 0.0205 - accuracy: 0.9937 - val_loss: 0.1496 - val_accuracy: 0.9633\n",
      "Epoch 1/10\n",
      "375/375 [==============================] - 2s 5ms/step - loss: 0.2873 - accuracy: 0.9185 - val_loss: 0.1489 - val_accuracy: 0.9590\n",
      "Epoch 2/10\n",
      "375/375 [==============================] - 2s 4ms/step - loss: 0.1202 - accuracy: 0.9656 - val_loss: 0.1205 - val_accuracy: 0.9638\n",
      "Epoch 3/10\n",
      "375/375 [==============================] - 2s 5ms/step - loss: 0.0798 - accuracy: 0.9768 - val_loss: 0.0899 - val_accuracy: 0.9727\n",
      "Epoch 4/10\n",
      "375/375 [==============================] - 2s 5ms/step - loss: 0.0576 - accuracy: 0.9827 - val_loss: 0.0816 - val_accuracy: 0.9758\n",
      "Epoch 5/10\n",
      "375/375 [==============================] - 2s 5ms/step - loss: 0.0418 - accuracy: 0.9877 - val_loss: 0.0816 - val_accuracy: 0.9768\n",
      "Epoch 6/10\n",
      "375/375 [==============================] - 2s 5ms/step - loss: 0.0322 - accuracy: 0.9908 - val_loss: 0.0796 - val_accuracy: 0.9765\n",
      "Epoch 7/10\n",
      "375/375 [==============================] - 2s 5ms/step - loss: 0.0242 - accuracy: 0.9932 - val_loss: 0.0815 - val_accuracy: 0.9787\n",
      "Epoch 8/10\n",
      "375/375 [==============================] - 2s 5ms/step - loss: 0.0185 - accuracy: 0.9946 - val_loss: 0.0774 - val_accuracy: 0.9796\n",
      "Epoch 9/10\n",
      "375/375 [==============================] - 2s 5ms/step - loss: 0.0145 - accuracy: 0.9961 - val_loss: 0.0846 - val_accuracy: 0.9788\n",
      "Epoch 10/10\n",
      "375/375 [==============================] - 2s 5ms/step - loss: 0.0108 - accuracy: 0.9969 - val_loss: 0.0837 - val_accuracy: 0.9797\n"
     ]
    }
   ],
   "source": [
    "from tensorflow import keras\n",
    "from tensorflow.keras import layers\n",
    "\n",
    "def get_model():\n",
    "    model = keras.Sequential([\n",
    "        layers.Dense(512, activation=\"relu\"),\n",
    "        layers.Dense(10, activation=\"softmax\")\n",
    "    ])\n",
    "    model.compile(optimizer=\"rmsprop\",\n",
    "                  loss=\"sparse_categorical_crossentropy\",\n",
    "                  metrics=[\"accuracy\"])\n",
    "    return model\n",
    "\n",
    "model = get_model()\n",
    "history_noise = model.fit(\n",
    "    train_images_with_noise_channels, train_labels,\n",
    "    epochs=10,\n",
    "    batch_size=128,\n",
    "    validation_split=0.2)\n",
    "\n",
    "model = get_model()\n",
    "history_zeros = model.fit(\n",
    "    train_images_with_zeros_channels, train_labels,\n",
    "    epochs=10,\n",
    "    batch_size=128,\n",
    "    validation_split=0.2)"
   ]
  },
  {
   "cell_type": "markdown",
   "metadata": {
    "colab_type": "text"
   },
   "source": [
    "**Plotting a validation accuracy comparison**"
   ]
  },
  {
   "cell_type": "code",
   "execution_count": 3,
   "metadata": {
    "colab_type": "code"
   },
   "outputs": [
    {
     "data": {
      "text/plain": [
       "<matplotlib.legend.Legend at 0x106077160>"
      ]
     },
     "execution_count": 3,
     "metadata": {},
     "output_type": "execute_result"
    },
    {
     "data": {
      "image/png": "[encoded data removed]",
      "text/plain": [
       "<Figure size 640x480 with 1 Axes>"
      ]
     },
     "metadata": {},
     "output_type": "display_data"
    }
   ],
   "source": [
    "import matplotlib.pyplot as plt\n",
    "val_acc_noise = history_noise.history[\"val_accuracy\"]\n",
    "val_acc_zeros = history_zeros.history[\"val_accuracy\"]\n",
    "epochs = range(1, 11)\n",
    "plt.plot(epochs, val_acc_noise, \"b-\",\n",
    "         label=\"Validation accuracy with noise channels\")\n",
    "plt.plot(epochs, val_acc_zeros, \"b--\",\n",
    "         label=\"Validation accuracy with zeros channels\")\n",
    "plt.title(\"Effect of noise channels on validation accuracy\")\n",
    "plt.xlabel(\"Epochs\")\n",
    "plt.ylabel(\"Accuracy\")\n",
    "plt.legend()"
   ]
  },
  {
   "cell_type": "markdown",
   "metadata": {
    "colab_type": "text"
   },
   "source": [
    "### The nature of generalization in deep learning"
   ]
  },
  {
   "cell_type": "markdown",
   "metadata": {
    "colab_type": "text"
   },
   "source": [
    "**Fitting a MNIST model with randomly shuffled labels**"
   ]
  },
  {
   "cell_type": "code",
   "execution_count": 4,
   "metadata": {
    "colab_type": "code"
   },
   "outputs": [
    {
     "name": "stdout",
     "output_type": "stream",
     "text": [
      "Epoch 1/100\n",
      "375/375 [==============================] - 2s 4ms/step - loss: 2.3164 - accuracy: 0.1029 - val_loss: 2.3069 - val_accuracy: 0.0996\n",
      "Epoch 2/100\n",
      "375/375 [==============================] - 1s 4ms/step - loss: 2.3003 - accuracy: 0.1162 - val_loss: 2.3111 - val_accuracy: 0.1008\n",
      "Epoch 3/100\n",
      "375/375 [==============================] - 1s 3ms/step - loss: 2.2904 - accuracy: 0.1266 - val_loss: 2.3160 - val_accuracy: 0.1042\n",
      "Epoch 4/100\n",
      "375/375 [==============================] - 1s 3ms/step - loss: 2.2768 - accuracy: 0.1388 - val_loss: 2.3271 - val_accuracy: 0.1015\n",
      "Epoch 5/100\n",
      "375/375 [==============================] - 1s 3ms/step - loss: 2.2590 - accuracy: 0.1536 - val_loss: 2.3388 - val_accuracy: 0.1036\n",
      "Epoch 6/100\n",
      "375/375 [==============================] - 1s 3ms/step - loss: 2.2378 - accuracy: 0.1681 - val_loss: 2.3462 - val_accuracy: 0.1009\n",
      "Epoch 7/100\n",
      "375/375 [==============================] - 1s 3ms/step - loss: 2.2123 - accuracy: 0.1858 - val_loss: 2.3667 - val_accuracy: 0.1029\n",
      "Epoch 8/100\n",
      "375/375 [==============================] - 1s 3ms/step - loss: 2.1851 - accuracy: 0.2004 - val_loss: 2.3860 - val_accuracy: 0.1005\n",
      "Epoch 9/100\n",
      "375/375 [==============================] - 1s 3ms/step - loss: 2.1557 - accuracy: 0.2170 - val_loss: 2.3962 - val_accuracy: 0.1017\n",
      "Epoch 10/100\n",
      "375/375 [==============================] - 1s 3ms/step - loss: 2.1240 - accuracy: 0.2339 - val_loss: 2.4245 - val_accuracy: 0.0993\n",
      "Epoch 11/100\n",
      "375/375 [==============================] - 1s 3ms/step - loss: 2.0893 - accuracy: 0.2487 - val_loss: 2.4575 - val_accuracy: 0.1006\n",
      "Epoch 12/100\n",
      "375/375 [==============================] - 1s 3ms/step - loss: 2.0577 - accuracy: 0.2632 - val_loss: 2.4747 - val_accuracy: 0.1017\n",
      "Epoch 13/100\n",
      "375/375 [==============================] - 1s 3ms/step - loss: 2.0243 - accuracy: 0.2786 - val_loss: 2.5066 - val_accuracy: 0.1002\n",
      "Epoch 14/100\n",
      "375/375 [==============================] - 1s 3ms/step - loss: 1.9891 - accuracy: 0.2926 - val_loss: 2.5304 - val_accuracy: 0.1015\n",
      "Epoch 15/100\n",
      "375/375 [==============================] - 1s 3ms/step - loss: 1.9541 - accuracy: 0.3079 - val_loss: 2.5592 - val_accuracy: 0.0982\n",
      "Epoch 16/100\n",
      "375/375 [==============================] - 1s 3ms/step - loss: 1.9196 - accuracy: 0.3228 - val_loss: 2.5978 - val_accuracy: 0.1047\n",
      "Epoch 17/100\n",
      "375/375 [==============================] - 1s 3ms/step - loss: 1.8846 - accuracy: 0.3381 - val_loss: 2.6376 - val_accuracy: 0.0947\n",
      "Epoch 18/100\n",
      "375/375 [==============================] - 1s 3ms/step - loss: 1.8509 - accuracy: 0.3509 - val_loss: 2.6483 - val_accuracy: 0.0963\n",
      "Epoch 19/100\n",
      "375/375 [==============================] - 1s 3ms/step - loss: 1.8156 - accuracy: 0.3657 - val_loss: 2.6971 - val_accuracy: 0.0998\n",
      "Epoch 20/100\n",
      "375/375 [==============================] - 1s 3ms/step - loss: 1.7852 - accuracy: 0.3769 - val_loss: 2.7251 - val_accuracy: 0.1003\n",
      "Epoch 21/100\n",
      "375/375 [==============================] - 1s 3ms/step - loss: 1.7506 - accuracy: 0.3898 - val_loss: 2.7614 - val_accuracy: 0.1002\n",
      "Epoch 22/100\n",
      "375/375 [==============================] - 1s 3ms/step - loss: 1.7210 - accuracy: 0.4045 - val_loss: 2.8145 - val_accuracy: 0.0993\n",
      "Epoch 23/100\n",
      "375/375 [==============================] - 1s 3ms/step - loss: 1.6901 - accuracy: 0.4160 - val_loss: 2.8509 - val_accuracy: 0.0985\n",
      "Epoch 24/100\n",
      "375/375 [==============================] - 1s 3ms/step - loss: 1.6585 - accuracy: 0.4265 - val_loss: 2.8866 - val_accuracy: 0.0990\n",
      "Epoch 25/100\n",
      "375/375 [==============================] - 1s 3ms/step - loss: 1.6268 - accuracy: 0.4370 - val_loss: 2.9480 - val_accuracy: 0.1012\n",
      "Epoch 26/100\n",
      "375/375 [==============================] - 1s 3ms/step - loss: 1.5997 - accuracy: 0.4471 - val_loss: 2.9773 - val_accuracy: 0.1013\n",
      "Epoch 27/100\n",
      "375/375 [==============================] - 1s 4ms/step - loss: 1.5717 - accuracy: 0.4580 - val_loss: 3.0079 - val_accuracy: 0.1007\n",
      "Epoch 28/100\n",
      "375/375 [==============================] - 1s 3ms/step - loss: 1.5442 - accuracy: 0.4691 - val_loss: 3.0503 - val_accuracy: 0.1041\n",
      "Epoch 29/100\n",
      "375/375 [==============================] - 1s 3ms/step - loss: 1.5176 - accuracy: 0.4780 - val_loss: 3.1072 - val_accuracy: 0.0985\n",
      "Epoch 30/100\n",
      "375/375 [==============================] - 1s 3ms/step - loss: 1.4901 - accuracy: 0.4893 - val_loss: 3.1675 - val_accuracy: 0.1010\n",
      "Epoch 31/100\n",
      "375/375 [==============================] - 1s 3ms/step - loss: 1.4637 - accuracy: 0.4982 - val_loss: 3.2118 - val_accuracy: 0.0995\n",
      "Epoch 32/100\n",
      "375/375 [==============================] - 1s 3ms/step - loss: 1.4383 - accuracy: 0.5066 - val_loss: 3.2318 - val_accuracy: 0.0990\n",
      "Epoch 33/100\n",
      "375/375 [==============================] - 1s 3ms/step - loss: 1.4130 - accuracy: 0.5139 - val_loss: 3.2822 - val_accuracy: 0.1024\n",
      "Epoch 34/100\n",
      "375/375 [==============================] - 1s 3ms/step - loss: 1.3880 - accuracy: 0.5269 - val_loss: 3.3444 - val_accuracy: 0.1012\n",
      "Epoch 35/100\n",
      "375/375 [==============================] - 1s 3ms/step - loss: 1.3642 - accuracy: 0.5339 - val_loss: 3.3828 - val_accuracy: 0.1002\n",
      "Epoch 36/100\n",
      "375/375 [==============================] - 1s 3ms/step - loss: 1.3418 - accuracy: 0.5434 - val_loss: 3.4209 - val_accuracy: 0.0985\n",
      "Epoch 37/100\n",
      "375/375 [==============================] - 1s 3ms/step - loss: 1.3178 - accuracy: 0.5523 - val_loss: 3.4756 - val_accuracy: 0.1032\n",
      "Epoch 38/100\n",
      "375/375 [==============================] - 1s 3ms/step - loss: 1.2968 - accuracy: 0.5580 - val_loss: 3.5440 - val_accuracy: 0.1016\n",
      "Epoch 39/100\n",
      "375/375 [==============================] - 1s 3ms/step - loss: 1.2756 - accuracy: 0.5672 - val_loss: 3.6018 - val_accuracy: 0.1004\n",
      "Epoch 40/100\n",
      "375/375 [==============================] - 1s 3ms/step - loss: 1.2534 - accuracy: 0.5743 - val_loss: 3.6439 - val_accuracy: 0.0988\n",
      "Epoch 41/100\n",
      "375/375 [==============================] - 1s 3ms/step - loss: 1.2326 - accuracy: 0.5809 - val_loss: 3.7180 - val_accuracy: 0.1061\n",
      "Epoch 42/100\n",
      "375/375 [==============================] - 1s 3ms/step - loss: 1.2134 - accuracy: 0.5891 - val_loss: 3.7399 - val_accuracy: 0.1007\n",
      "Epoch 43/100\n",
      "375/375 [==============================] - 1s 3ms/step - loss: 1.1919 - accuracy: 0.5961 - val_loss: 3.7936 - val_accuracy: 0.1022\n",
      "Epoch 44/100\n",
      "375/375 [==============================] - 1s 3ms/step - loss: 1.1720 - accuracy: 0.6020 - val_loss: 3.8800 - val_accuracy: 0.1007\n",
      "Epoch 45/100\n",
      "375/375 [==============================] - 1s 3ms/step - loss: 1.1536 - accuracy: 0.6108 - val_loss: 3.9204 - val_accuracy: 0.0996\n",
      "Epoch 46/100\n",
      "375/375 [==============================] - 1s 3ms/step - loss: 1.1368 - accuracy: 0.6150 - val_loss: 3.9424 - val_accuracy: 0.1012\n",
      "Epoch 47/100\n",
      "375/375 [==============================] - 1s 3ms/step - loss: 1.1161 - accuracy: 0.6236 - val_loss: 4.0419 - val_accuracy: 0.1006\n",
      "Epoch 48/100\n",
      "375/375 [==============================] - 1s 3ms/step - loss: 1.1005 - accuracy: 0.6276 - val_loss: 4.0652 - val_accuracy: 0.1010\n",
      "Epoch 49/100\n",
      "375/375 [==============================] - 1s 3ms/step - loss: 1.0842 - accuracy: 0.6349 - val_loss: 4.0892 - val_accuracy: 0.1041\n",
      "Epoch 50/100\n",
      "375/375 [==============================] - 1s 3ms/step - loss: 1.0648 - accuracy: 0.6416 - val_loss: 4.1758 - val_accuracy: 0.0991\n",
      "Epoch 51/100\n",
      "375/375 [==============================] - 1s 3ms/step - loss: 1.0492 - accuracy: 0.6478 - val_loss: 4.2269 - val_accuracy: 0.1000\n",
      "Epoch 52/100\n",
      "375/375 [==============================] - 1s 3ms/step - loss: 1.0298 - accuracy: 0.6545 - val_loss: 4.3164 - val_accuracy: 0.1025\n",
      "Epoch 53/100\n",
      "375/375 [==============================] - 1s 3ms/step - loss: 1.0173 - accuracy: 0.6590 - val_loss: 4.3587 - val_accuracy: 0.1016\n",
      "Epoch 54/100\n",
      "375/375 [==============================] - 1s 3ms/step - loss: 1.0005 - accuracy: 0.6644 - val_loss: 4.4036 - val_accuracy: 0.1007\n",
      "Epoch 55/100\n",
      "375/375 [==============================] - 1s 3ms/step - loss: 0.9828 - accuracy: 0.6711 - val_loss: 4.4649 - val_accuracy: 0.1031\n",
      "Epoch 56/100\n",
      "375/375 [==============================] - 1s 4ms/step - loss: 0.9673 - accuracy: 0.6753 - val_loss: 4.5441 - val_accuracy: 0.1013\n",
      "Epoch 57/100\n",
      "375/375 [==============================] - 1s 3ms/step - loss: 0.9527 - accuracy: 0.6813 - val_loss: 4.6017 - val_accuracy: 0.1014\n",
      "Epoch 58/100\n",
      "375/375 [==============================] - 1s 3ms/step - loss: 0.9372 - accuracy: 0.6868 - val_loss: 4.6201 - val_accuracy: 0.0985\n",
      "Epoch 59/100\n",
      "375/375 [==============================] - 1s 3ms/step - loss: 0.9233 - accuracy: 0.6915 - val_loss: 4.7019 - val_accuracy: 0.1010\n",
      "Epoch 60/100\n",
      "375/375 [==============================] - 1s 3ms/step - loss: 0.9123 - accuracy: 0.6947 - val_loss: 4.7757 - val_accuracy: 0.1014\n",
      "Epoch 61/100\n",
      "375/375 [==============================] - 1s 3ms/step - loss: 0.8967 - accuracy: 0.7007 - val_loss: 4.8262 - val_accuracy: 0.1037\n",
      "Epoch 62/100\n",
      "375/375 [==============================] - 1s 3ms/step - loss: 0.8834 - accuracy: 0.7059 - val_loss: 4.8991 - val_accuracy: 0.1030\n",
      "Epoch 63/100\n",
      "375/375 [==============================] - 1s 3ms/step - loss: 0.8686 - accuracy: 0.7094 - val_loss: 4.9297 - val_accuracy: 0.1030\n",
      "Epoch 64/100\n",
      "375/375 [==============================] - 1s 3ms/step - loss: 0.8536 - accuracy: 0.7161 - val_loss: 5.0585 - val_accuracy: 0.1024\n",
      "Epoch 65/100\n",
      "375/375 [==============================] - 1s 3ms/step - loss: 0.8441 - accuracy: 0.7201 - val_loss: 5.0889 - val_accuracy: 0.1016\n",
      "Epoch 66/100\n",
      "375/375 [==============================] - 1s 3ms/step - loss: 0.8297 - accuracy: 0.7274 - val_loss: 5.1025 - val_accuracy: 0.0985\n",
      "Epoch 67/100\n",
      "375/375 [==============================] - 1s 3ms/step - loss: 0.8174 - accuracy: 0.7280 - val_loss: 5.1937 - val_accuracy: 0.1037\n",
      "Epoch 68/100\n",
      "375/375 [==============================] - 1s 3ms/step - loss: 0.8040 - accuracy: 0.7332 - val_loss: 5.2831 - val_accuracy: 0.0993\n",
      "Epoch 69/100\n",
      "375/375 [==============================] - 1s 3ms/step - loss: 0.7927 - accuracy: 0.7362 - val_loss: 5.3094 - val_accuracy: 0.1017\n",
      "Epoch 70/100\n",
      "375/375 [==============================] - 1s 3ms/step - loss: 0.7837 - accuracy: 0.7411 - val_loss: 5.3606 - val_accuracy: 0.1004\n",
      "Epoch 71/100\n",
      "375/375 [==============================] - 1s 3ms/step - loss: 0.7694 - accuracy: 0.7459 - val_loss: 5.4182 - val_accuracy: 0.1025\n",
      "Epoch 72/100\n",
      "375/375 [==============================] - 1s 3ms/step - loss: 0.7594 - accuracy: 0.7473 - val_loss: 5.5054 - val_accuracy: 0.1014\n",
      "Epoch 73/100\n",
      "375/375 [==============================] - 1s 3ms/step - loss: 0.7451 - accuracy: 0.7544 - val_loss: 5.5750 - val_accuracy: 0.1012\n",
      "Epoch 74/100\n",
      "375/375 [==============================] - 1s 3ms/step - loss: 0.7336 - accuracy: 0.7583 - val_loss: 5.6318 - val_accuracy: 0.1031\n",
      "Epoch 75/100\n",
      "375/375 [==============================] - 1s 3ms/step - loss: 0.7243 - accuracy: 0.7615 - val_loss: 5.7540 - val_accuracy: 0.1015\n",
      "Epoch 76/100\n",
      "375/375 [==============================] - 1s 3ms/step - loss: 0.7167 - accuracy: 0.7651 - val_loss: 5.7830 - val_accuracy: 0.1026\n",
      "Epoch 77/100\n",
      "375/375 [==============================] - 1s 3ms/step - loss: 0.7050 - accuracy: 0.7676 - val_loss: 5.8217 - val_accuracy: 0.1018\n",
      "Epoch 78/100\n",
      "375/375 [==============================] - 1s 3ms/step - loss: 0.6935 - accuracy: 0.7701 - val_loss: 5.8739 - val_accuracy: 0.1004\n",
      "Epoch 79/100\n",
      "375/375 [==============================] - 1s 3ms/step - loss: 0.6825 - accuracy: 0.7753 - val_loss: 5.9779 - val_accuracy: 0.0993\n",
      "Epoch 80/100\n",
      "375/375 [==============================] - 1s 3ms/step - loss: 0.6738 - accuracy: 0.7782 - val_loss: 6.0327 - val_accuracy: 0.0990\n",
      "Epoch 81/100\n",
      "375/375 [==============================] - 1s 3ms/step - loss: 0.6629 - accuracy: 0.7801 - val_loss: 6.0805 - val_accuracy: 0.0993\n",
      "Epoch 82/100\n",
      "375/375 [==============================] - 1s 3ms/step - loss: 0.6578 - accuracy: 0.7838 - val_loss: 6.1472 - val_accuracy: 0.0969\n",
      "Epoch 83/100\n",
      "375/375 [==============================] - 1s 3ms/step - loss: 0.6423 - accuracy: 0.7902 - val_loss: 6.2653 - val_accuracy: 0.1021\n",
      "Epoch 84/100\n",
      "375/375 [==============================] - 2s 4ms/step - loss: 0.6344 - accuracy: 0.7916 - val_loss: 6.3191 - val_accuracy: 0.1015\n",
      "Epoch 85/100\n",
      "375/375 [==============================] - 1s 3ms/step - loss: 0.6268 - accuracy: 0.7945 - val_loss: 6.3380 - val_accuracy: 0.0986\n",
      "Epoch 86/100\n",
      "375/375 [==============================] - 1s 3ms/step - loss: 0.6157 - accuracy: 0.7980 - val_loss: 6.4507 - val_accuracy: 0.1002\n",
      "Epoch 87/100\n",
      "375/375 [==============================] - 1s 3ms/step - loss: 0.6105 - accuracy: 0.8007 - val_loss: 6.5071 - val_accuracy: 0.0978\n",
      "Epoch 88/100\n",
      "375/375 [==============================] - 1s 3ms/step - loss: 0.5988 - accuracy: 0.8036 - val_loss: 6.5638 - val_accuracy: 0.1013\n",
      "Epoch 89/100\n",
      "375/375 [==============================] - 1s 3ms/step - loss: 0.5897 - accuracy: 0.8079 - val_loss: 6.6668 - val_accuracy: 0.1018\n",
      "Epoch 90/100\n",
      "375/375 [==============================] - 1s 3ms/step - loss: 0.5830 - accuracy: 0.8113 - val_loss: 6.7203 - val_accuracy: 0.1022\n",
      "Epoch 91/100\n",
      "375/375 [==============================] - 1s 3ms/step - loss: 0.5722 - accuracy: 0.8137 - val_loss: 6.8108 - val_accuracy: 0.1000\n",
      "Epoch 92/100\n",
      "375/375 [==============================] - 1s 3ms/step - loss: 0.5639 - accuracy: 0.8162 - val_loss: 6.8627 - val_accuracy: 0.1007\n",
      "Epoch 93/100\n",
      "375/375 [==============================] - 1s 3ms/step - loss: 0.5572 - accuracy: 0.8189 - val_loss: 6.9668 - val_accuracy: 0.0996\n",
      "Epoch 94/100\n",
      "375/375 [==============================] - 1s 3ms/step - loss: 0.5486 - accuracy: 0.8211 - val_loss: 7.0437 - val_accuracy: 0.1001\n",
      "Epoch 95/100\n",
      "375/375 [==============================] - 1s 3ms/step - loss: 0.5420 - accuracy: 0.8245 - val_loss: 7.1236 - val_accuracy: 0.0975\n",
      "Epoch 96/100\n",
      "375/375 [==============================] - 1s 3ms/step - loss: 0.5346 - accuracy: 0.8269 - val_loss: 7.2081 - val_accuracy: 0.1004\n",
      "Epoch 97/100\n",
      "375/375 [==============================] - 1s 3ms/step - loss: 0.5277 - accuracy: 0.8286 - val_loss: 7.2642 - val_accuracy: 0.0996\n",
      "Epoch 98/100\n",
      "375/375 [==============================] - 1s 3ms/step - loss: 0.5201 - accuracy: 0.8310 - val_loss: 7.2953 - val_accuracy: 0.0996\n",
      "Epoch 99/100\n",
      "375/375 [==============================] - 1s 3ms/step - loss: 0.5102 - accuracy: 0.8357 - val_loss: 7.3503 - val_accuracy: 0.1008\n",
      "Epoch 100/100\n",
      "375/375 [==============================] - 1s 3ms/step - loss: 0.5051 - accuracy: 0.8376 - val_loss: 7.4685 - val_accuracy: 0.0998\n"
     ]
    },
    {
     "data": {
      "text/plain": [
       "<keras.src.callbacks.History at 0x16adcd070>"
      ]
     },
     "execution_count": 4,
     "metadata": {},
     "output_type": "execute_result"
    }
   ],
   "source": [
    "(train_images, train_labels), _ = mnist.load_data()\n",
    "train_images = train_images.reshape((60000, 28 * 28))\n",
    "train_images = train_images.astype(\"float32\") / 255\n",
    "\n",
    "random_train_labels = train_labels[:]\n",
    "np.random.shuffle(random_train_labels)\n",
    "\n",
    "model = keras.Sequential([\n",
    "    layers.Dense(512, activation=\"relu\"),\n",
    "    layers.Dense(10, activation=\"softmax\")\n",
    "])\n",
    "model.compile(optimizer=\"rmsprop\",\n",
    "              loss=\"sparse_categorical_crossentropy\",\n",
    "              metrics=[\"accuracy\"])\n",
    "model.fit(train_images, random_train_labels,\n",
    "          epochs=100,\n",
    "          batch_size=128,\n",
    "          validation_split=0.2)"
   ]
  },
  {
   "cell_type": "markdown",
   "metadata": {
    "colab_type": "text"
   },
   "source": [
    "#### The manifold hypothesis"
   ]
  },
  {
   "cell_type": "markdown",
   "metadata": {
    "colab_type": "text"
   },
   "source": [
    "#### Interpolation as a source of generalization"
   ]
  },
  {
   "cell_type": "markdown",
   "metadata": {
    "colab_type": "text"
   },
   "source": [
    "#### Why deep learning works"
   ]
  },
  {
   "cell_type": "markdown",
   "metadata": {
    "colab_type": "text"
   },
   "source": [
    "#### Training data is paramount"
   ]
  },
  {
   "cell_type": "markdown",
   "metadata": {
    "colab_type": "text"
   },
   "source": [
    "## Evaluating machine-learning models"
   ]
  },
  {
   "cell_type": "markdown",
   "metadata": {
    "colab_type": "text"
   },
   "source": [
    "### Training, validation, and test sets"
   ]
  },
  {
   "cell_type": "markdown",
   "metadata": {
    "colab_type": "text"
   },
   "source": [
    "#### Simple hold-out validation"
   ]
  },
  {
   "cell_type": "markdown",
   "metadata": {
    "colab_type": "text"
   },
   "source": [
    "#### K-fold validation"
   ]
  },
  {
   "cell_type": "markdown",
   "metadata": {
    "colab_type": "text"
   },
   "source": [
    "#### Iterated K-fold validation with shuffling"
   ]
  },
  {
   "cell_type": "markdown",
   "metadata": {
    "colab_type": "text"
   },
   "source": [
    "### Beating a common-sense baseline"
   ]
  },
  {
   "cell_type": "markdown",
   "metadata": {
    "colab_type": "text"
   },
   "source": [
    "### Things to keep in mind about model evaluation"
   ]
  },
  {
   "cell_type": "markdown",
   "metadata": {
    "colab_type": "text"
   },
   "source": [
    "## Improving model fit"
   ]
  },
  {
   "cell_type": "markdown",
   "metadata": {
    "colab_type": "text"
   },
   "source": [
    "### Tuning key gradient descent parameters"
   ]
  },
  {
   "cell_type": "markdown",
   "metadata": {
    "colab_type": "text"
   },
   "source": [
    "**Training a MNIST model with an incorrectly high learning rate**"
   ]
  },
  {
   "cell_type": "code",
   "execution_count": 5,
   "metadata": {
    "colab_type": "code"
   },
   "outputs": [
    {
     "name": "stderr",
     "output_type": "stream",
     "text": [
      "WARNING:absl:At this time, the v2.11+ optimizer `tf.keras.optimizers.RMSprop` runs slowly on M1/M2 Macs, please use the legacy Keras optimizer instead, located at `tf.keras.optimizers.legacy.RMSprop`.\n",
      "WARNING:absl:There is a known slowdown when using v2.11+ Keras optimizers on M1/M2 Macs. Falling back to the legacy Keras optimizer, i.e., `tf.keras.optimizers.legacy.RMSprop`.\n"
     ]
    },
    {
     "name": "stdout",
     "output_type": "stream",
     "text": [
      "Epoch 1/10\n",
      "375/375 [==============================] - 1s 3ms/step - loss: 892.9560 - accuracy: 0.3917 - val_loss: 2.1216 - val_accuracy: 0.3367\n",
      "Epoch 2/10\n",
      "375/375 [==============================] - 1s 3ms/step - loss: 4.0482 - accuracy: 0.2786 - val_loss: 2.1928 - val_accuracy: 0.2339\n",
      "Epoch 3/10\n",
      "375/375 [==============================] - 1s 3ms/step - loss: 2.8931 - accuracy: 0.2473 - val_loss: 2.0985 - val_accuracy: 0.2459\n",
      "Epoch 4/10\n",
      "375/375 [==============================] - 1s 3ms/step - loss: 2.7376 - accuracy: 0.2649 - val_loss: 2.3429 - val_accuracy: 0.2233\n",
      "Epoch 5/10\n",
      "375/375 [==============================] - 1s 3ms/step - loss: 2.5962 - accuracy: 0.2622 - val_loss: 2.4300 - val_accuracy: 0.3222\n",
      "Epoch 6/10\n",
      "375/375 [==============================] - 1s 3ms/step - loss: 2.6503 - accuracy: 0.2776 - val_loss: 2.1341 - val_accuracy: 0.2492\n",
      "Epoch 7/10\n",
      "375/375 [==============================] - 1s 3ms/step - loss: 2.3003 - accuracy: 0.2573 - val_loss: 3.4426 - val_accuracy: 0.2578\n",
      "Epoch 8/10\n",
      "375/375 [==============================] - 1s 3ms/step - loss: 2.6074 - accuracy: 0.2452 - val_loss: 2.8837 - val_accuracy: 0.2364\n",
      "Epoch 9/10\n",
      "375/375 [==============================] - 1s 3ms/step - loss: 2.5035 - accuracy: 0.2521 - val_loss: 1.9660 - val_accuracy: 0.2620\n",
      "Epoch 10/10\n",
      "375/375 [==============================] - 1s 3ms/step - loss: 2.3794 - accuracy: 0.2567 - val_loss: 3.1478 - val_accuracy: 0.3058\n"
     ]
    },
    {
     "data": {
      "text/plain": [
       "<keras.src.callbacks.History at 0x2946132b0>"
      ]
     },
     "execution_count": 5,
     "metadata": {},
     "output_type": "execute_result"
    }
   ],
   "source": [
    "(train_images, train_labels), _ = mnist.load_data()\n",
    "train_images = train_images.reshape((60000, 28 * 28))\n",
    "train_images = train_images.astype(\"float32\") / 255\n",
    "\n",
    "model = keras.Sequential([\n",
    "    layers.Dense(512, activation=\"relu\"),\n",
    "    layers.Dense(10, activation=\"softmax\")\n",
    "])\n",
    "model.compile(optimizer=keras.optimizers.RMSprop(1.),\n",
    "              loss=\"sparse_categorical_crossentropy\",\n",
    "              metrics=[\"accuracy\"])\n",
    "model.fit(train_images, train_labels,\n",
    "          epochs=10,\n",
    "          batch_size=128,\n",
    "          validation_split=0.2)"
   ]
  },
  {
   "cell_type": "markdown",
   "metadata": {
    "colab_type": "text"
   },
   "source": [
    "**The same model with a more appropriate learning rate**"
   ]
  },
  {
   "cell_type": "code",
   "execution_count": 6,
   "metadata": {
    "colab_type": "code"
   },
   "outputs": [
    {
     "name": "stderr",
     "output_type": "stream",
     "text": [
      "WARNING:absl:At this time, the v2.11+ optimizer `tf.keras.optimizers.RMSprop` runs slowly on M1/M2 Macs, please use the legacy Keras optimizer instead, located at `tf.keras.optimizers.legacy.RMSprop`.\n",
      "WARNING:absl:There is a known slowdown when using v2.11+ Keras optimizers on M1/M2 Macs. Falling back to the legacy Keras optimizer, i.e., `tf.keras.optimizers.legacy.RMSprop`.\n"
     ]
    },
    {
     "name": "stdout",
     "output_type": "stream",
     "text": [
      "Epoch 1/10\n",
      "375/375 [==============================] - 2s 4ms/step - loss: 0.4003 - accuracy: 0.9088 - val_loss: 0.1631 - val_accuracy: 0.9542\n",
      "Epoch 2/10\n",
      "375/375 [==============================] - 1s 3ms/step - loss: 0.1352 - accuracy: 0.9651 - val_loss: 0.1736 - val_accuracy: 0.9592\n",
      "Epoch 3/10\n",
      "375/375 [==============================] - 1s 3ms/step - loss: 0.1126 - accuracy: 0.9726 - val_loss: 0.1821 - val_accuracy: 0.9628\n",
      "Epoch 4/10\n",
      "375/375 [==============================] - 1s 3ms/step - loss: 0.0936 - accuracy: 0.9781 - val_loss: 0.1829 - val_accuracy: 0.9685\n",
      "Epoch 5/10\n",
      "375/375 [==============================] - 1s 3ms/step - loss: 0.0759 - accuracy: 0.9826 - val_loss: 0.1820 - val_accuracy: 0.9712\n",
      "Epoch 6/10\n",
      "375/375 [==============================] - 1s 3ms/step - loss: 0.0683 - accuracy: 0.9855 - val_loss: 0.2028 - val_accuracy: 0.9716\n",
      "Epoch 7/10\n",
      "375/375 [==============================] - 1s 3ms/step - loss: 0.0729 - accuracy: 0.9861 - val_loss: 0.2807 - val_accuracy: 0.9671\n",
      "Epoch 8/10\n",
      "375/375 [==============================] - 1s 3ms/step - loss: 0.0678 - accuracy: 0.9878 - val_loss: 0.2366 - val_accuracy: 0.9756\n",
      "Epoch 9/10\n",
      "375/375 [==============================] - 1s 3ms/step - loss: 0.0595 - accuracy: 0.9887 - val_loss: 0.2794 - val_accuracy: 0.9722\n",
      "Epoch 10/10\n",
      "375/375 [==============================] - 1s 3ms/step - loss: 0.0564 - accuracy: 0.9900 - val_loss: 0.3109 - val_accuracy: 0.9726\n"
     ]
    },
    {
     "data": {
      "text/plain": [
       "<keras.src.callbacks.History at 0x29dd8e6d0>"
      ]
     },
     "execution_count": 6,
     "metadata": {},
     "output_type": "execute_result"
    }
   ],
   "source": [
    "model = keras.Sequential([\n",
    "    layers.Dense(512, activation=\"relu\"),\n",
    "    layers.Dense(10, activation=\"softmax\")\n",
    "])\n",
    "model.compile(optimizer=keras.optimizers.RMSprop(1e-2),\n",
    "              loss=\"sparse_categorical_crossentropy\",\n",
    "              metrics=[\"accuracy\"])\n",
    "model.fit(train_images, train_labels,\n",
    "          epochs=10,\n",
    "          batch_size=128,\n",
    "          validation_split=0.2)"
   ]
  },
  {
   "cell_type": "markdown",
   "metadata": {
    "colab_type": "text"
   },
   "source": [
    "### Leveraging better architecture priors"
   ]
  },
  {
   "cell_type": "markdown",
   "metadata": {
    "colab_type": "text"
   },
   "source": [
    "### Increasing model capacity"
   ]
  },
  {
   "cell_type": "markdown",
   "metadata": {
    "colab_type": "text"
   },
   "source": [
    "**A simple logistic regression on MNIST**"
   ]
  },
  {
   "cell_type": "code",
   "execution_count": 7,
   "metadata": {
    "colab_type": "code"
   },
   "outputs": [
    {
     "name": "stdout",
     "output_type": "stream",
     "text": [
      "Epoch 1/20\n",
      "375/375 [==============================] - 0s 855us/step - loss: 0.6639 - accuracy: 0.8384 - val_loss: 0.3589 - val_accuracy: 0.9030\n",
      "Epoch 2/20\n",
      "375/375 [==============================] - 0s 964us/step - loss: 0.3509 - accuracy: 0.9026 - val_loss: 0.3084 - val_accuracy: 0.9147\n",
      "Epoch 3/20\n",
      "375/375 [==============================] - 1s 1ms/step - loss: 0.3151 - accuracy: 0.9120 - val_loss: 0.2895 - val_accuracy: 0.9194\n",
      "Epoch 4/20\n",
      "375/375 [==============================] - 0s 1ms/step - loss: 0.2991 - accuracy: 0.9165 - val_loss: 0.2808 - val_accuracy: 0.9225\n",
      "Epoch 5/20\n",
      "375/375 [==============================] - 0s 731us/step - loss: 0.2893 - accuracy: 0.9189 - val_loss: 0.2776 - val_accuracy: 0.9217\n",
      "Epoch 6/20\n",
      "375/375 [==============================] - 0s 658us/step - loss: 0.2826 - accuracy: 0.9215 - val_loss: 0.2706 - val_accuracy: 0.9251\n",
      "Epoch 7/20\n",
      "375/375 [==============================] - 0s 609us/step - loss: 0.2781 - accuracy: 0.9225 - val_loss: 0.2701 - val_accuracy: 0.9252\n",
      "Epoch 8/20\n",
      "375/375 [==============================] - 0s 851us/step - loss: 0.2742 - accuracy: 0.9234 - val_loss: 0.2681 - val_accuracy: 0.9268\n",
      "Epoch 9/20\n",
      "375/375 [==============================] - 0s 792us/step - loss: 0.2714 - accuracy: 0.9250 - val_loss: 0.2653 - val_accuracy: 0.9273\n",
      "Epoch 10/20\n",
      "375/375 [==============================] - 0s 624us/step - loss: 0.2683 - accuracy: 0.9253 - val_loss: 0.2634 - val_accuracy: 0.9286\n",
      "Epoch 11/20\n",
      "375/375 [==============================] - 0s 614us/step - loss: 0.2665 - accuracy: 0.9262 - val_loss: 0.2638 - val_accuracy: 0.9273\n",
      "Epoch 12/20\n",
      "375/375 [==============================] - 0s 613us/step - loss: 0.2646 - accuracy: 0.9273 - val_loss: 0.2636 - val_accuracy: 0.9278\n",
      "Epoch 13/20\n",
      "375/375 [==============================] - 0s 598us/step - loss: 0.2631 - accuracy: 0.9272 - val_loss: 0.2633 - val_accuracy: 0.9284\n",
      "Epoch 14/20\n",
      "375/375 [==============================] - 0s 622us/step - loss: 0.2617 - accuracy: 0.9282 - val_loss: 0.2623 - val_accuracy: 0.9294\n",
      "Epoch 15/20\n",
      "375/375 [==============================] - 0s 605us/step - loss: 0.2603 - accuracy: 0.9287 - val_loss: 0.2625 - val_accuracy: 0.9302\n",
      "Epoch 16/20\n",
      "375/375 [==============================] - 0s 597us/step - loss: 0.2593 - accuracy: 0.9288 - val_loss: 0.2611 - val_accuracy: 0.9312\n",
      "Epoch 17/20\n",
      "375/375 [==============================] - 0s 630us/step - loss: 0.2582 - accuracy: 0.9298 - val_loss: 0.2617 - val_accuracy: 0.9297\n",
      "Epoch 18/20\n",
      "375/375 [==============================] - 0s 634us/step - loss: 0.2570 - accuracy: 0.9301 - val_loss: 0.2620 - val_accuracy: 0.9301\n",
      "Epoch 19/20\n",
      "375/375 [==============================] - 0s 614us/step - loss: 0.2562 - accuracy: 0.9296 - val_loss: 0.2600 - val_accuracy: 0.9320\n",
      "Epoch 20/20\n",
      "375/375 [==============================] - 0s 601us/step - loss: 0.2555 - accuracy: 0.9303 - val_loss: 0.2621 - val_accuracy: 0.9297\n"
     ]
    }
   ],
   "source": [
    "model = keras.Sequential([layers.Dense(10, activation=\"softmax\")])\n",
    "model.compile(optimizer=\"rmsprop\",\n",
    "              loss=\"sparse_categorical_crossentropy\",\n",
    "              metrics=[\"accuracy\"])\n",
    "history_small_model = model.fit(\n",
    "    train_images, train_labels,\n",
    "    epochs=20,\n",
    "    batch_size=128,\n",
    "    validation_split=0.2)"
   ]
  },
  {
   "cell_type": "code",
   "execution_count": 8,
   "metadata": {
    "colab_type": "code"
   },
   "outputs": [
    {
     "data": {
      "text/plain": [
       "<matplotlib.legend.Legend at 0x29e046fa0>"
      ]
     },
     "execution_count": 8,
     "metadata": {},
     "output_type": "execute_result"
    },
    {
     "data": {
      "image/png": "[encoded data removed]",
      "text/plain": [
       "<Figure size 640x480 with 1 Axes>"
      ]
     },
     "metadata": {},
     "output_type": "display_data"
    }
   ],
   "source": [
    "import matplotlib.pyplot as plt\n",
    "val_loss = history_small_model.history[\"val_loss\"]\n",
    "epochs = range(1, 21)\n",
    "plt.plot(epochs, val_loss, \"b--\",\n",
    "         label=\"Validation loss\")\n",
    "plt.title(\"Effect of insufficient model capacity on validation loss\")\n",
    "plt.xlabel(\"Epochs\")\n",
    "plt.ylabel(\"Loss\")\n",
    "plt.legend()"
   ]
  },
  {
   "cell_type": "code",
   "execution_count": 9,
   "metadata": {
    "colab_type": "code"
   },
   "outputs": [
    {
     "name": "stdout",
     "output_type": "stream",
     "text": [
      "Epoch 1/20\n",
      "375/375 [==============================] - 1s 1ms/step - loss: 0.3527 - accuracy: 0.8985 - val_loss: 0.1808 - val_accuracy: 0.9487\n",
      "Epoch 2/20\n",
      "375/375 [==============================] - 1s 2ms/step - loss: 0.1529 - accuracy: 0.9546 - val_loss: 0.1274 - val_accuracy: 0.9622\n",
      "Epoch 3/20\n",
      "375/375 [==============================] - 1s 1ms/step - loss: 0.1081 - accuracy: 0.9672 - val_loss: 0.1044 - val_accuracy: 0.9680\n",
      "Epoch 4/20\n",
      "375/375 [==============================] - 0s 1ms/step - loss: 0.0832 - accuracy: 0.9754 - val_loss: 0.1046 - val_accuracy: 0.9679\n",
      "Epoch 5/20\n",
      "375/375 [==============================] - 0s 1ms/step - loss: 0.0675 - accuracy: 0.9792 - val_loss: 0.0945 - val_accuracy: 0.9720\n",
      "Epoch 6/20\n",
      "375/375 [==============================] - 0s 1ms/step - loss: 0.0551 - accuracy: 0.9834 - val_loss: 0.0941 - val_accuracy: 0.9732\n",
      "Epoch 7/20\n",
      "375/375 [==============================] - 1s 1ms/step - loss: 0.0462 - accuracy: 0.9861 - val_loss: 0.1056 - val_accuracy: 0.9721\n",
      "Epoch 8/20\n",
      "375/375 [==============================] - 0s 1ms/step - loss: 0.0388 - accuracy: 0.9881 - val_loss: 0.0916 - val_accuracy: 0.9762\n",
      "Epoch 9/20\n",
      "375/375 [==============================] - 0s 1ms/step - loss: 0.0338 - accuracy: 0.9898 - val_loss: 0.0960 - val_accuracy: 0.9755\n",
      "Epoch 10/20\n",
      "375/375 [==============================] - 0s 1ms/step - loss: 0.0280 - accuracy: 0.9914 - val_loss: 0.0958 - val_accuracy: 0.9755\n",
      "Epoch 11/20\n",
      "375/375 [==============================] - 0s 1ms/step - loss: 0.0240 - accuracy: 0.9927 - val_loss: 0.1002 - val_accuracy: 0.9743\n",
      "Epoch 12/20\n",
      "375/375 [==============================] - 1s 1ms/step - loss: 0.0200 - accuracy: 0.9939 - val_loss: 0.1061 - val_accuracy: 0.9762\n",
      "Epoch 13/20\n",
      "375/375 [==============================] - 0s 1ms/step - loss: 0.0166 - accuracy: 0.9946 - val_loss: 0.1097 - val_accuracy: 0.9751\n",
      "Epoch 14/20\n",
      "375/375 [==============================] - 0s 1ms/step - loss: 0.0149 - accuracy: 0.9954 - val_loss: 0.1061 - val_accuracy: 0.9771\n",
      "Epoch 15/20\n",
      "375/375 [==============================] - 0s 1ms/step - loss: 0.0124 - accuracy: 0.9962 - val_loss: 0.1199 - val_accuracy: 0.9758\n",
      "Epoch 16/20\n",
      "375/375 [==============================] - 0s 1ms/step - loss: 0.0107 - accuracy: 0.9967 - val_loss: 0.1186 - val_accuracy: 0.9767\n",
      "Epoch 17/20\n",
      "375/375 [==============================] - 0s 1ms/step - loss: 0.0093 - accuracy: 0.9968 - val_loss: 0.1307 - val_accuracy: 0.9743\n",
      "Epoch 18/20\n",
      "375/375 [==============================] - 0s 1ms/step - loss: 0.0079 - accuracy: 0.9975 - val_loss: 0.1327 - val_accuracy: 0.9775\n",
      "Epoch 19/20\n",
      "375/375 [==============================] - 0s 1ms/step - loss: 0.0071 - accuracy: 0.9978 - val_loss: 0.1361 - val_accuracy: 0.9759\n",
      "Epoch 20/20\n",
      "375/375 [==============================] - 1s 1ms/step - loss: 0.0061 - accuracy: 0.9981 - val_loss: 0.1426 - val_accuracy: 0.9750\n"
     ]
    }
   ],
   "source": [
    "model = keras.Sequential([\n",
    "    layers.Dense(96, activation=\"relu\"),\n",
    "    layers.Dense(96, activation=\"relu\"),\n",
    "    layers.Dense(10, activation=\"softmax\"),\n",
    "])\n",
    "model.compile(optimizer=\"rmsprop\",\n",
    "              loss=\"sparse_categorical_crossentropy\",\n",
    "              metrics=[\"accuracy\"])\n",
    "history_large_model = model.fit(\n",
    "    train_images, train_labels,\n",
    "    epochs=20,\n",
    "    batch_size=128,\n",
    "    validation_split=0.2)"
   ]
  },
  {
   "cell_type": "markdown",
   "metadata": {
    "colab_type": "text"
   },
   "source": [
    "## Improving generalization"
   ]
  },
  {
   "cell_type": "markdown",
   "metadata": {
    "colab_type": "text"
   },
   "source": [
    "### Dataset curation"
   ]
  },
  {
   "cell_type": "markdown",
   "metadata": {
    "colab_type": "text"
   },
   "source": [
    "### Feature engineering"
   ]
  },
  {
   "cell_type": "markdown",
   "metadata": {
    "colab_type": "text"
   },
   "source": [
    "### Using early stopping"
   ]
  },
  {
   "cell_type": "markdown",
   "metadata": {
    "colab_type": "text"
   },
   "source": [
    "### Regularizing your model"
   ]
  },
  {
   "cell_type": "markdown",
   "metadata": {
    "colab_type": "text"
   },
   "source": [
    "#### Reducing the network's size"
   ]
  },
  {
   "cell_type": "markdown",
   "metadata": {
    "colab_type": "text"
   },
   "source": [
    "**Original model**"
   ]
  },
  {
   "cell_type": "code",
   "execution_count": 10,
   "metadata": {
    "colab_type": "code"
   },
   "outputs": [
    {
     "name": "stdout",
     "output_type": "stream",
     "text": [
      "Epoch 1/20\n",
      "30/30 [==============================] - 1s 34ms/step - loss: 0.5357 - accuracy: 0.7789 - val_loss: 0.3977 - val_accuracy: 0.8595\n",
      "Epoch 2/20\n",
      "30/30 [==============================] - 0s 9ms/step - loss: 0.3125 - accuracy: 0.8971 - val_loss: 0.3025 - val_accuracy: 0.8883\n",
      "Epoch 3/20\n",
      "30/30 [==============================] - 0s 8ms/step - loss: 0.2240 - accuracy: 0.9263 - val_loss: 0.2790 - val_accuracy: 0.8913\n",
      "Epoch 4/20\n",
      "30/30 [==============================] - 0s 7ms/step - loss: 0.1744 - accuracy: 0.9425 - val_loss: 0.2725 - val_accuracy: 0.8921\n",
      "Epoch 5/20\n",
      "30/30 [==============================] - 0s 7ms/step - loss: 0.1370 - accuracy: 0.9576 - val_loss: 0.3035 - val_accuracy: 0.8813\n",
      "Epoch 6/20\n",
      "30/30 [==============================] - 0s 7ms/step - loss: 0.1138 - accuracy: 0.9651 - val_loss: 0.2974 - val_accuracy: 0.8871\n",
      "Epoch 7/20\n",
      "30/30 [==============================] - 0s 11ms/step - loss: 0.0907 - accuracy: 0.9743 - val_loss: 0.3405 - val_accuracy: 0.8782\n",
      "Epoch 8/20\n",
      "30/30 [==============================] - 0s 8ms/step - loss: 0.0776 - accuracy: 0.9776 - val_loss: 0.3401 - val_accuracy: 0.8836\n",
      "Epoch 9/20\n",
      "30/30 [==============================] - 0s 9ms/step - loss: 0.0582 - accuracy: 0.9855 - val_loss: 0.4104 - val_accuracy: 0.8722\n",
      "Epoch 10/20\n",
      "30/30 [==============================] - 0s 9ms/step - loss: 0.0503 - accuracy: 0.9867 - val_loss: 0.3944 - val_accuracy: 0.8790\n",
      "Epoch 11/20\n",
      "30/30 [==============================] - 0s 8ms/step - loss: 0.0392 - accuracy: 0.9909 - val_loss: 0.4729 - val_accuracy: 0.8691\n",
      "Epoch 12/20\n",
      "30/30 [==============================] - 0s 8ms/step - loss: 0.0318 - accuracy: 0.9929 - val_loss: 0.4575 - val_accuracy: 0.8754\n",
      "Epoch 13/20\n",
      "30/30 [==============================] - 0s 9ms/step - loss: 0.0251 - accuracy: 0.9946 - val_loss: 0.4954 - val_accuracy: 0.8739\n",
      "Epoch 14/20\n",
      "30/30 [==============================] - 0s 8ms/step - loss: 0.0191 - accuracy: 0.9964 - val_loss: 0.5378 - val_accuracy: 0.8708\n",
      "Epoch 15/20\n",
      "30/30 [==============================] - 0s 7ms/step - loss: 0.0156 - accuracy: 0.9969 - val_loss: 0.5720 - val_accuracy: 0.8694\n",
      "Epoch 16/20\n",
      "30/30 [==============================] - 0s 7ms/step - loss: 0.0099 - accuracy: 0.9990 - val_loss: 0.6112 - val_accuracy: 0.8680\n",
      "Epoch 17/20\n",
      "30/30 [==============================] - 0s 8ms/step - loss: 0.0123 - accuracy: 0.9973 - val_loss: 0.6460 - val_accuracy: 0.8688\n",
      "Epoch 18/20\n",
      "30/30 [==============================] - 0s 7ms/step - loss: 0.0047 - accuracy: 0.9995 - val_loss: 0.6869 - val_accuracy: 0.8687\n",
      "Epoch 19/20\n",
      "30/30 [==============================] - 0s 7ms/step - loss: 0.0072 - accuracy: 0.9983 - val_loss: 0.7380 - val_accuracy: 0.8653\n",
      "Epoch 20/20\n",
      "30/30 [==============================] - 0s 7ms/step - loss: 0.0024 - accuracy: 0.9999 - val_loss: 0.7653 - val_accuracy: 0.8665\n"
     ]
    }
   ],
   "source": [
    "from tensorflow.keras.datasets import imdb\n",
    "(train_data, train_labels), _ = imdb.load_data(num_words=10000)\n",
    "\n",
    "def vectorize_sequences(sequences, dimension=10000):\n",
    "    results = np.zeros((len(sequences), dimension))\n",
    "    for i, sequence in enumerate(sequences):\n",
    "        results[i, sequence] = 1.\n",
    "    return results\n",
    "train_data = vectorize_sequences(train_data)\n",
    "\n",
    "model = keras.Sequential([\n",
    "    layers.Dense(16, activation=\"relu\"),\n",
    "    layers.Dense(16, activation=\"relu\"),\n",
    "    layers.Dense(1, activation=\"sigmoid\")\n",
    "])\n",
    "model.compile(optimizer=\"rmsprop\",\n",
    "              loss=\"binary_crossentropy\",\n",
    "              metrics=[\"accuracy\"])\n",
    "history_original = model.fit(train_data, train_labels,\n",
    "                             epochs=20, batch_size=512, validation_split=0.4)"
   ]
  },
  {
   "cell_type": "markdown",
   "metadata": {
    "colab_type": "text"
   },
   "source": [
    "**Version of the model with lower capacity**"
   ]
  },
  {
   "cell_type": "code",
   "execution_count": 11,
   "metadata": {
    "colab_type": "code"
   },
   "outputs": [
    {
     "name": "stdout",
     "output_type": "stream",
     "text": [
      "Epoch 1/20\n",
      "30/30 [==============================] - 1s 29ms/step - loss: 0.6065 - accuracy: 0.7443 - val_loss: 0.5159 - val_accuracy: 0.8520\n",
      "Epoch 2/20\n",
      "30/30 [==============================] - 0s 9ms/step - loss: 0.4531 - accuracy: 0.8801 - val_loss: 0.4194 - val_accuracy: 0.8775\n",
      "Epoch 3/20\n",
      "30/30 [==============================] - 0s 6ms/step - loss: 0.3603 - accuracy: 0.9039 - val_loss: 0.3665 - val_accuracy: 0.8815\n",
      "Epoch 4/20\n",
      "30/30 [==============================] - 0s 7ms/step - loss: 0.2969 - accuracy: 0.9195 - val_loss: 0.3215 - val_accuracy: 0.8884\n",
      "Epoch 5/20\n",
      "30/30 [==============================] - 0s 8ms/step - loss: 0.2501 - accuracy: 0.9294 - val_loss: 0.2974 - val_accuracy: 0.8904\n",
      "Epoch 6/20\n",
      "30/30 [==============================] - 0s 6ms/step - loss: 0.2162 - accuracy: 0.9386 - val_loss: 0.2837 - val_accuracy: 0.8917\n",
      "Epoch 7/20\n",
      "30/30 [==============================] - 0s 7ms/step - loss: 0.1891 - accuracy: 0.9459 - val_loss: 0.2775 - val_accuracy: 0.8916\n",
      "Epoch 8/20\n",
      "30/30 [==============================] - 0s 7ms/step - loss: 0.1673 - accuracy: 0.9517 - val_loss: 0.2747 - val_accuracy: 0.8916\n",
      "Epoch 9/20\n",
      "30/30 [==============================] - 0s 6ms/step - loss: 0.1496 - accuracy: 0.9575 - val_loss: 0.2740 - val_accuracy: 0.8917\n",
      "Epoch 10/20\n",
      "30/30 [==============================] - 0s 7ms/step - loss: 0.1342 - accuracy: 0.9631 - val_loss: 0.2778 - val_accuracy: 0.8897\n",
      "Epoch 11/20\n",
      "30/30 [==============================] - 0s 7ms/step - loss: 0.1204 - accuracy: 0.9675 - val_loss: 0.2850 - val_accuracy: 0.8882\n",
      "Epoch 12/20\n",
      "30/30 [==============================] - 0s 7ms/step - loss: 0.1084 - accuracy: 0.9717 - val_loss: 0.2884 - val_accuracy: 0.8878\n",
      "Epoch 13/20\n",
      "30/30 [==============================] - 0s 8ms/step - loss: 0.0975 - accuracy: 0.9747 - val_loss: 0.3000 - val_accuracy: 0.8846\n",
      "Epoch 14/20\n",
      "30/30 [==============================] - 0s 7ms/step - loss: 0.0885 - accuracy: 0.9771 - val_loss: 0.3065 - val_accuracy: 0.8865\n",
      "Epoch 15/20\n",
      "30/30 [==============================] - 0s 7ms/step - loss: 0.0796 - accuracy: 0.9803 - val_loss: 0.3154 - val_accuracy: 0.8854\n",
      "Epoch 16/20\n",
      "30/30 [==============================] - 0s 7ms/step - loss: 0.0721 - accuracy: 0.9830 - val_loss: 0.3275 - val_accuracy: 0.8835\n",
      "Epoch 17/20\n",
      "30/30 [==============================] - 0s 7ms/step - loss: 0.0645 - accuracy: 0.9849 - val_loss: 0.3414 - val_accuracy: 0.8819\n",
      "Epoch 18/20\n",
      "30/30 [==============================] - 0s 7ms/step - loss: 0.0580 - accuracy: 0.9874 - val_loss: 0.3542 - val_accuracy: 0.8811\n",
      "Epoch 19/20\n",
      "30/30 [==============================] - 0s 6ms/step - loss: 0.0526 - accuracy: 0.9893 - val_loss: 0.3670 - val_accuracy: 0.8793\n",
      "Epoch 20/20\n",
      "30/30 [==============================] - 0s 6ms/step - loss: 0.0475 - accuracy: 0.9900 - val_loss: 0.3827 - val_accuracy: 0.8780\n"
     ]
    }
   ],
   "source": [
    "model = keras.Sequential([\n",
    "    layers.Dense(4, activation=\"relu\"),\n",
    "    layers.Dense(4, activation=\"relu\"),\n",
    "    layers.Dense(1, activation=\"sigmoid\")\n",
    "])\n",
    "model.compile(optimizer=\"rmsprop\",\n",
    "              loss=\"binary_crossentropy\",\n",
    "              metrics=[\"accuracy\"])\n",
    "history_smaller_model = model.fit(\n",
    "    train_data, train_labels,\n",
    "    epochs=20, batch_size=512, validation_split=0.4)"
   ]
  },
  {
   "cell_type": "markdown",
   "metadata": {
    "colab_type": "text"
   },
   "source": [
    "**Version of the model with higher capacity**"
   ]
  },
  {
   "cell_type": "code",
   "execution_count": 12,
   "metadata": {
    "colab_type": "code"
   },
   "outputs": [
    {
     "name": "stdout",
     "output_type": "stream",
     "text": [
      "Epoch 1/20\n",
      "30/30 [==============================] - 3s 79ms/step - loss: 0.5268 - accuracy: 0.7661 - val_loss: 0.4262 - val_accuracy: 0.8106\n",
      "Epoch 2/20\n",
      "30/30 [==============================] - 2s 67ms/step - loss: 0.2551 - accuracy: 0.8957 - val_loss: 0.2751 - val_accuracy: 0.8843\n",
      "Epoch 3/20\n",
      "30/30 [==============================] - 2s 60ms/step - loss: 0.1386 - accuracy: 0.9495 - val_loss: 0.2957 - val_accuracy: 0.8918\n",
      "Epoch 4/20\n",
      "30/30 [==============================] - 2s 63ms/step - loss: 0.0935 - accuracy: 0.9714 - val_loss: 0.4372 - val_accuracy: 0.8778\n",
      "Epoch 5/20\n",
      "30/30 [==============================] - 2s 65ms/step - loss: 0.1158 - accuracy: 0.9761 - val_loss: 0.3222 - val_accuracy: 0.8881\n",
      "Epoch 6/20\n",
      "30/30 [==============================] - 2s 64ms/step - loss: 0.0060 - accuracy: 0.9995 - val_loss: 0.4821 - val_accuracy: 0.8893\n",
      "Epoch 7/20\n",
      "30/30 [==============================] - 2s 58ms/step - loss: 9.7668e-04 - accuracy: 0.9999 - val_loss: 0.6039 - val_accuracy: 0.8880\n",
      "Epoch 8/20\n",
      "30/30 [==============================] - 2s 58ms/step - loss: 1.3689e-04 - accuracy: 1.0000 - val_loss: 1.5272 - val_accuracy: 0.8125\n",
      "Epoch 9/20\n",
      "30/30 [==============================] - 2s 57ms/step - loss: 0.2073 - accuracy: 0.9804 - val_loss: 0.5451 - val_accuracy: 0.8867\n",
      "Epoch 10/20\n",
      "30/30 [==============================] - 2s 57ms/step - loss: 1.7697e-04 - accuracy: 1.0000 - val_loss: 0.6116 - val_accuracy: 0.8869\n",
      "Epoch 11/20\n",
      "30/30 [==============================] - 2s 57ms/step - loss: 6.0154e-05 - accuracy: 1.0000 - val_loss: 0.6876 - val_accuracy: 0.8860\n",
      "Epoch 12/20\n",
      "30/30 [==============================] - 2s 58ms/step - loss: 1.9292e-05 - accuracy: 1.0000 - val_loss: 0.7824 - val_accuracy: 0.8849\n",
      "Epoch 13/20\n",
      "30/30 [==============================] - 2s 58ms/step - loss: 5.3320e-06 - accuracy: 1.0000 - val_loss: 0.8941 - val_accuracy: 0.8842\n",
      "Epoch 14/20\n",
      "30/30 [==============================] - 2s 57ms/step - loss: 1.6512e-06 - accuracy: 1.0000 - val_loss: 0.9449 - val_accuracy: 0.8851\n",
      "Epoch 15/20\n",
      "30/30 [==============================] - 2s 56ms/step - loss: 5.7525e-07 - accuracy: 1.0000 - val_loss: 1.0247 - val_accuracy: 0.8848\n",
      "Epoch 16/20\n",
      "30/30 [==============================] - 2s 56ms/step - loss: 2.1422e-07 - accuracy: 1.0000 - val_loss: 1.0984 - val_accuracy: 0.8844\n",
      "Epoch 17/20\n",
      "30/30 [==============================] - 3s 99ms/step - loss: 8.5030e-08 - accuracy: 1.0000 - val_loss: 1.1577 - val_accuracy: 0.8843\n",
      "Epoch 18/20\n",
      "30/30 [==============================] - 2s 57ms/step - loss: 4.0182e-08 - accuracy: 1.0000 - val_loss: 1.1965 - val_accuracy: 0.8844\n",
      "Epoch 19/20\n",
      "30/30 [==============================] - 2s 56ms/step - loss: 2.3241e-08 - accuracy: 1.0000 - val_loss: 1.2327 - val_accuracy: 0.8839\n",
      "Epoch 20/20\n",
      "30/30 [==============================] - 2s 56ms/step - loss: 1.6128e-08 - accuracy: 1.0000 - val_loss: 1.2544 - val_accuracy: 0.8838\n"
     ]
    }
   ],
   "source": [
    "model = keras.Sequential([\n",
    "    layers.Dense(512, activation=\"relu\"),\n",
    "    layers.Dense(512, activation=\"relu\"),\n",
    "    layers.Dense(1, activation=\"sigmoid\")\n",
    "])\n",
    "model.compile(optimizer=\"rmsprop\",\n",
    "              loss=\"binary_crossentropy\",\n",
    "              metrics=[\"accuracy\"])\n",
    "history_larger_model = model.fit(\n",
    "    train_data, train_labels,\n",
    "    epochs=20, batch_size=512, validation_split=0.4)"
   ]
  },
  {
   "cell_type": "markdown",
   "metadata": {
    "colab_type": "text"
   },
   "source": [
    "#### Adding weight regularization"
   ]
  },
  {
   "cell_type": "markdown",
   "metadata": {
    "colab_type": "text"
   },
   "source": [
    "**Adding L2 weight regularization to the model**"
   ]
  },
  {
   "cell_type": "code",
   "execution_count": 13,
   "metadata": {
    "colab_type": "code"
   },
   "outputs": [
    {
     "name": "stdout",
     "output_type": "stream",
     "text": [
      "Epoch 1/20\n",
      "30/30 [==============================] - 1s 36ms/step - loss: 0.6113 - accuracy: 0.7881 - val_loss: 0.5154 - val_accuracy: 0.8169\n",
      "Epoch 2/20\n",
      "30/30 [==============================] - 0s 13ms/step - loss: 0.4215 - accuracy: 0.8897 - val_loss: 0.4073 - val_accuracy: 0.8794\n",
      "Epoch 3/20\n",
      "30/30 [==============================] - 0s 14ms/step - loss: 0.3521 - accuracy: 0.9106 - val_loss: 0.3741 - val_accuracy: 0.8885\n",
      "Epoch 4/20\n",
      "30/30 [==============================] - 0s 12ms/step - loss: 0.3190 - accuracy: 0.9190 - val_loss: 0.3661 - val_accuracy: 0.8874\n",
      "Epoch 5/20\n",
      "30/30 [==============================] - 0s 9ms/step - loss: 0.2971 - accuracy: 0.9257 - val_loss: 0.3624 - val_accuracy: 0.8857\n",
      "Epoch 6/20\n",
      "30/30 [==============================] - 0s 8ms/step - loss: 0.2834 - accuracy: 0.9301 - val_loss: 0.3659 - val_accuracy: 0.8867\n",
      "Epoch 7/20\n",
      "30/30 [==============================] - 0s 9ms/step - loss: 0.2697 - accuracy: 0.9369 - val_loss: 0.3716 - val_accuracy: 0.8833\n",
      "Epoch 8/20\n",
      "30/30 [==============================] - 0s 12ms/step - loss: 0.2631 - accuracy: 0.9379 - val_loss: 0.3890 - val_accuracy: 0.8775\n",
      "Epoch 9/20\n",
      "30/30 [==============================] - 0s 10ms/step - loss: 0.2549 - accuracy: 0.9417 - val_loss: 0.3725 - val_accuracy: 0.8823\n",
      "Epoch 10/20\n",
      "30/30 [==============================] - 0s 7ms/step - loss: 0.2491 - accuracy: 0.9431 - val_loss: 0.3757 - val_accuracy: 0.8818\n",
      "Epoch 11/20\n",
      "30/30 [==============================] - 0s 8ms/step - loss: 0.2451 - accuracy: 0.9449 - val_loss: 0.4258 - val_accuracy: 0.8656\n",
      "Epoch 12/20\n",
      "30/30 [==============================] - 0s 8ms/step - loss: 0.2382 - accuracy: 0.9479 - val_loss: 0.4133 - val_accuracy: 0.8724\n",
      "Epoch 13/20\n",
      "30/30 [==============================] - 0s 8ms/step - loss: 0.2387 - accuracy: 0.9460 - val_loss: 0.3973 - val_accuracy: 0.8767\n",
      "Epoch 14/20\n",
      "30/30 [==============================] - 0s 8ms/step - loss: 0.2347 - accuracy: 0.9482 - val_loss: 0.4453 - val_accuracy: 0.8635\n",
      "Epoch 15/20\n",
      "30/30 [==============================] - 0s 8ms/step - loss: 0.2281 - accuracy: 0.9512 - val_loss: 0.4197 - val_accuracy: 0.8722\n",
      "Epoch 16/20\n",
      "30/30 [==============================] - 0s 8ms/step - loss: 0.2320 - accuracy: 0.9481 - val_loss: 0.4229 - val_accuracy: 0.8733\n",
      "Epoch 17/20\n",
      "30/30 [==============================] - 0s 9ms/step - loss: 0.2225 - accuracy: 0.9545 - val_loss: 0.4089 - val_accuracy: 0.8752\n",
      "Epoch 18/20\n",
      "30/30 [==============================] - 0s 8ms/step - loss: 0.2248 - accuracy: 0.9531 - val_loss: 0.4247 - val_accuracy: 0.8716\n",
      "Epoch 19/20\n",
      "30/30 [==============================] - 0s 8ms/step - loss: 0.2174 - accuracy: 0.9539 - val_loss: 0.4678 - val_accuracy: 0.8622\n",
      "Epoch 20/20\n",
      "30/30 [==============================] - 0s 7ms/step - loss: 0.2163 - accuracy: 0.9565 - val_loss: 0.4382 - val_accuracy: 0.8678\n"
     ]
    }
   ],
   "source": [
    "from tensorflow.keras import regularizers\n",
    "model = keras.Sequential([\n",
    "    layers.Dense(16,\n",
    "                 kernel_regularizer=regularizers.l2(0.002),\n",
    "                 activation=\"relu\"),\n",
    "    layers.Dense(16,\n",
    "                 kernel_regularizer=regularizers.l2(0.002),\n",
    "                 activation=\"relu\"),\n",
    "    layers.Dense(1, activation=\"sigmoid\")\n",
    "])\n",
    "model.compile(optimizer=\"rmsprop\",\n",
    "              loss=\"binary_crossentropy\",\n",
    "              metrics=[\"accuracy\"])\n",
    "history_l2_reg = model.fit(\n",
    "    train_data, train_labels,\n",
    "    epochs=20, batch_size=512, validation_split=0.4)"
   ]
  },
  {
   "cell_type": "markdown",
   "metadata": {
    "colab_type": "text"
   },
   "source": [
    "**Different weight regularizers available in Keras**"
   ]
  },
  {
   "cell_type": "code",
   "execution_count": 14,
   "metadata": {
    "colab_type": "code"
   },
   "outputs": [
    {
     "data": {
      "text/plain": [
       "<keras.src.regularizers.L1L2 at 0x17524f430>"
      ]
     },
     "execution_count": 14,
     "metadata": {},
     "output_type": "execute_result"
    }
   ],
   "source": [
    "from tensorflow.keras import regularizers\n",
    "regularizers.l1(0.001)\n",
    "regularizers.l1_l2(l1=0.001, l2=0.001)"
   ]
  },
  {
   "cell_type": "markdown",
   "metadata": {
    "colab_type": "text"
   },
   "source": [
    "#### Adding dropout"
   ]
  },
  {
   "cell_type": "markdown",
   "metadata": {
    "colab_type": "text"
   },
   "source": [
    "**Adding dropout to the IMDB model**"
   ]
  },
  {
   "cell_type": "code",
   "execution_count": 15,
   "metadata": {
    "colab_type": "code"
   },
   "outputs": [
    {
     "name": "stdout",
     "output_type": "stream",
     "text": [
      "Epoch 1/20\n",
      "30/30 [==============================] - 1s 30ms/step - loss: 0.6439 - accuracy: 0.6247 - val_loss: 0.5509 - val_accuracy: 0.8016\n",
      "Epoch 2/20\n",
      "30/30 [==============================] - 0s 9ms/step - loss: 0.5423 - accuracy: 0.7414 - val_loss: 0.4472 - val_accuracy: 0.8545\n",
      "Epoch 3/20\n",
      "30/30 [==============================] - 0s 7ms/step - loss: 0.4623 - accuracy: 0.8074 - val_loss: 0.3750 - val_accuracy: 0.8803\n",
      "Epoch 4/20\n",
      "30/30 [==============================] - 0s 9ms/step - loss: 0.4059 - accuracy: 0.8471 - val_loss: 0.3412 - val_accuracy: 0.8797\n",
      "Epoch 5/20\n",
      "30/30 [==============================] - 0s 8ms/step - loss: 0.3526 - accuracy: 0.8753 - val_loss: 0.3045 - val_accuracy: 0.8869\n",
      "Epoch 6/20\n",
      "30/30 [==============================] - 0s 8ms/step - loss: 0.3123 - accuracy: 0.8939 - val_loss: 0.2888 - val_accuracy: 0.8871\n",
      "Epoch 7/20\n",
      "30/30 [==============================] - 0s 14ms/step - loss: 0.2712 - accuracy: 0.9086 - val_loss: 0.2838 - val_accuracy: 0.8904\n",
      "Epoch 8/20\n",
      "30/30 [==============================] - 1s 21ms/step - loss: 0.2367 - accuracy: 0.9230 - val_loss: 0.2846 - val_accuracy: 0.8914\n",
      "Epoch 9/20\n",
      "30/30 [==============================] - 0s 16ms/step - loss: 0.2142 - accuracy: 0.9319 - val_loss: 0.2967 - val_accuracy: 0.8918\n",
      "Epoch 10/20\n",
      "30/30 [==============================] - 0s 12ms/step - loss: 0.1909 - accuracy: 0.9418 - val_loss: 0.3118 - val_accuracy: 0.8870\n",
      "Epoch 11/20\n",
      "30/30 [==============================] - 0s 12ms/step - loss: 0.1773 - accuracy: 0.9435 - val_loss: 0.3173 - val_accuracy: 0.8887\n",
      "Epoch 12/20\n",
      "30/30 [==============================] - 0s 8ms/step - loss: 0.1620 - accuracy: 0.9485 - val_loss: 0.3595 - val_accuracy: 0.8859\n",
      "Epoch 13/20\n",
      "30/30 [==============================] - 0s 8ms/step - loss: 0.1423 - accuracy: 0.9570 - val_loss: 0.3543 - val_accuracy: 0.8861\n",
      "Epoch 14/20\n",
      "30/30 [==============================] - 0s 8ms/step - loss: 0.1274 - accuracy: 0.9581 - val_loss: 0.4375 - val_accuracy: 0.8801\n",
      "Epoch 15/20\n",
      "30/30 [==============================] - 0s 8ms/step - loss: 0.1222 - accuracy: 0.9621 - val_loss: 0.3967 - val_accuracy: 0.8827\n",
      "Epoch 16/20\n",
      "30/30 [==============================] - 0s 8ms/step - loss: 0.1156 - accuracy: 0.9631 - val_loss: 0.4260 - val_accuracy: 0.8857\n",
      "Epoch 17/20\n",
      "30/30 [==============================] - 0s 7ms/step - loss: 0.1067 - accuracy: 0.9661 - val_loss: 0.4388 - val_accuracy: 0.8824\n",
      "Epoch 18/20\n",
      "30/30 [==============================] - 0s 7ms/step - loss: 0.0991 - accuracy: 0.9687 - val_loss: 0.4758 - val_accuracy: 0.8840\n",
      "Epoch 19/20\n",
      "30/30 [==============================] - 0s 8ms/step - loss: 0.0913 - accuracy: 0.9719 - val_loss: 0.5617 - val_accuracy: 0.8794\n",
      "Epoch 20/20\n",
      "30/30 [==============================] - 0s 7ms/step - loss: 0.0905 - accuracy: 0.9721 - val_loss: 0.5551 - val_accuracy: 0.8835\n"
     ]
    }
   ],
   "source": [
    "model = keras.Sequential([\n",
    "    layers.Dense(16, activation=\"relu\"),\n",
    "    layers.Dropout(0.5),\n",
    "    layers.Dense(16, activation=\"relu\"),\n",
    "    layers.Dropout(0.5),\n",
    "    layers.Dense(1, activation=\"sigmoid\")\n",
    "])\n",
    "model.compile(optimizer=\"rmsprop\",\n",
    "              loss=\"binary_crossentropy\",\n",
    "              metrics=[\"accuracy\"])\n",
    "history_dropout = model.fit(\n",
    "    train_data, train_labels,\n",
    "    epochs=20, batch_size=512, validation_split=0.4)"
   ]
  },
  {
   "cell_type": "markdown",
   "metadata": {
    "colab_type": "text"
   },
   "source": [
    "## Summary"
   ]
  }
 ],
 "metadata": {
  "colab": {
   "collapsed_sections": [],
   "name": "chapter05_fundamentals-of-ml.i",
   "private_outputs": false,
   "provenance": [],
   "toc_visible": true
  },
  "kernelspec": {
   "display_name": "Python 3",
   "language": "python",
   "name": "python3"
  },
  "language_info": {
   "codemirror_mode": {
    "name": "ipython",
    "version": 3
   },
   "file_extension": ".py",
   "mimetype": "text/x-python",
   "name": "python",
   "nbconvert_exporter": "python",
   "pygments_lexer": "ipython3",
   "version": "3.8.18"
  }
 },
 "nbformat": 4,
 "nbformat_minor": 0
}
